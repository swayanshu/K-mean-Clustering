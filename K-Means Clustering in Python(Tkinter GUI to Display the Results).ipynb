{
 "cells": [
  {
   "cell_type": "code",
   "execution_count": 1,
   "metadata": {
    "scrolled": true
   },
   "outputs": [
    {
     "name": "stdout",
     "output_type": "stream",
     "text": [
      "     x   y\n",
      "0   25  79\n",
      "1   34  51\n",
      "2   22  53\n",
      "3   27  78\n",
      "4   33  59\n",
      "5   33  74\n",
      "6   31  73\n",
      "7   22  57\n",
      "8   35  69\n",
      "9   34  75\n",
      "10  67  51\n",
      "11  54  32\n",
      "12  57  40\n",
      "13  43  47\n",
      "14  50  53\n",
      "15  57  36\n",
      "16  59  35\n",
      "17  52  58\n",
      "18  65  59\n",
      "19  47  50\n",
      "20  49  25\n",
      "21  48  20\n",
      "22  35  14\n",
      "23  33  12\n",
      "24  44  20\n",
      "25  45   5\n",
      "26  38  29\n",
      "27  43  27\n",
      "28  51   8\n",
      "29  46   7\n"
     ]
    }
   ],
   "source": [
    "from pandas import DataFrame\n",
    "\n",
    "Data = {'x': [25,34,22,27,33,33,31,22,35,34,67,54,57,43,50,57,59,52,65,47,49,48,35,33,44,45,38,43,51,46],\n",
    "        'y': [79,51,53,78,59,74,73,57,69,75,51,32,40,47,53,36,35,58,59,50,25,20,14,12,20,5,29,27,8,7]\n",
    "       }\n",
    "  \n",
    "df = DataFrame(Data,columns=['x','y'])\n",
    "print (df)"
   ]
  },
  {
   "cell_type": "markdown",
   "metadata": {},
   "source": [
    "# K-Means Clustering in Python – 3 clusters\n",
    "Once you created the DataFrame based on the above data, you’ll need to import 2 additional Python modules:\n",
    "\n",
    "matplotlib – for creating charts in Python\n",
    "sklearn – for applying the K-Means Clustering in Python\n",
    "In the code below, you can specify the number of clusters. For this example, assign 3 clusters as follows:\n",
    "\n",
    "KMeans(n_clusters=3).fit(df)"
   ]
  },
  {
   "cell_type": "code",
   "execution_count": 3,
   "metadata": {},
   "outputs": [
    {
     "name": "stdout",
     "output_type": "stream",
     "text": [
      "[[29.6 66.8]\n",
      " [43.2 16.7]\n",
      " [55.1 46.1]]\n"
     ]
    },
    {
     "data": {
      "text/plain": [
       "<matplotlib.collections.PathCollection at 0x210fe42ae80>"
      ]
     },
     "execution_count": 3,
     "metadata": {},
     "output_type": "execute_result"
    },
    {
     "data": {
      "image/png": "[encoded data removed]",
      "text/plain": [
       "<Figure size 432x288 with 1 Axes>"
      ]
     },
     "metadata": {
      "needs_background": "light"
     },
     "output_type": "display_data"
    }
   ],
   "source": [
    "from pandas import DataFrame\n",
    "import matplotlib.pyplot as plt\n",
    "from sklearn.cluster import KMeans\n",
    "%matplotlib inline\n",
    "\n",
    "Data = {'x': [25,34,22,27,33,33,31,22,35,34,67,54,57,43,50,57,59,52,65,47,49,48,35,33,44,45,38,43,51,46],\n",
    "        'y': [79,51,53,78,59,74,73,57,69,75,51,32,40,47,53,36,35,58,59,50,25,20,14,12,20,5,29,27,8,7]\n",
    "       }\n",
    "  \n",
    "df = DataFrame(Data,columns=['x','y'])\n",
    "  \n",
    "kmeans = KMeans(n_clusters=3).fit(df)\n",
    "centroids = kmeans.cluster_centers_\n",
    "print(centroids)\n",
    "\n",
    "plt.scatter(df['x'], df['y'], c= kmeans.labels_.astype(float), s=50, alpha=0.5)\n",
    "plt.scatter(centroids[:, 0], centroids[:, 1], c='red', s=50)"
   ]
  },
  {
   "cell_type": "markdown",
   "metadata": {},
   "source": [
    "Note that the center of each cluster (in red) represents the mean of all the observations that belong to that cluster.\n",
    "\n",
    "As you might also see, the observations that belong to a given cluster are closer to the center of that cluster, in comparison to the centers of other clusters."
   ]
  },
  {
   "cell_type": "markdown",
   "metadata": {},
   "source": [
    "# K-Means Clustering in Python – 4 clusters\n",
    "Let’s now see what would happen if we use 4 clusters instead. In that case, the only thing you’ll need to do is to change the n_clusters from 3 to 4:\n",
    "\n",
    "KMeans(n_clusters=4).fit(df)\n",
    "\n",
    "And so, your full Python code for 4 clusters would look like this:"
   ]
  },
  {
   "cell_type": "code",
   "execution_count": 4,
   "metadata": {},
   "outputs": [
    {
     "name": "stdout",
     "output_type": "stream",
     "text": [
      "[[43.2        16.7       ]\n",
      " [30.83333333 74.66666667]\n",
      " [55.1        46.1       ]\n",
      " [27.75       55.        ]]\n"
     ]
    },
    {
     "data": {
      "text/plain": [
       "<matplotlib.collections.PathCollection at 0x210ff4739b0>"
      ]
     },
     "execution_count": 4,
     "metadata": {},
     "output_type": "execute_result"
    },
    {
     "data": {
      "image/png": "[encoded data removed]",
      "text/plain": [
       "<Figure size 432x288 with 1 Axes>"
      ]
     },
     "metadata": {
      "needs_background": "light"
     },
     "output_type": "display_data"
    }
   ],
   "source": [
    "from pandas import DataFrame\n",
    "import matplotlib.pyplot as plt\n",
    "from sklearn.cluster import KMeans\n",
    "\n",
    "Data = {'x': [25,34,22,27,33,33,31,22,35,34,67,54,57,43,50,57,59,52,65,47,49,48,35,33,44,45,38,43,51,46],\n",
    "        'y': [79,51,53,78,59,74,73,57,69,75,51,32,40,47,53,36,35,58,59,50,25,20,14,12,20,5,29,27,8,7]\n",
    "       }\n",
    "  \n",
    "df = DataFrame(Data,columns=['x','y'])\n",
    "  \n",
    "kmeans = KMeans(n_clusters=4).fit(df)\n",
    "centroids = kmeans.cluster_centers_\n",
    "print(centroids)\n",
    "\n",
    "plt.scatter(df['x'], df['y'], c= kmeans.labels_.astype(float), s=50, alpha=0.5)\n",
    "plt.scatter(centroids[:, 0], centroids[:, 1], c='red', s=50)"
   ]
  },
  {
   "cell_type": "markdown",
   "metadata": {},
   "source": [
    "# Tkinter GUI to Display the Results\n",
    "You can use the tkinter module in Python to display the clusters on a simple graphical user interface.\n",
    "\n",
    "This is the code that you can use (for 3 clusters):"
   ]
  },
  {
   "cell_type": "code",
   "execution_count": 5,
   "metadata": {},
   "outputs": [],
   "source": [
    "from pandas import DataFrame\n",
    "import matplotlib.pyplot as plt\n",
    "from sklearn.cluster import KMeans\n",
    "import tkinter as tk\n",
    "from matplotlib.backends.backend_tkagg import FigureCanvasTkAgg\n",
    "\n",
    "Data = {'x': [25,34,22,27,33,33,31,22,35,34,67,54,57,43,50,57,59,52,65,47,49,48,35,33,44,45,38,43,51,46],\n",
    "        'y': [79,51,53,78,59,74,73,57,69,75,51,32,40,47,53,36,35,58,59,50,25,20,14,12,20,5,29,27,8,7]\n",
    "       }\n",
    "  \n",
    "df = DataFrame(Data,columns=['x','y'])\n",
    "  \n",
    "kmeans = KMeans(n_clusters=3).fit(df)\n",
    "centroids = kmeans.cluster_centers_\n",
    "\n",
    "root= tk.Tk()\n",
    "\n",
    "canvas1 = tk.Canvas(root, width = 100, height = 100)\n",
    "canvas1.pack()\n",
    "\n",
    "label1 = tk.Label(root, text=centroids, justify = 'center')\n",
    "canvas1.create_window(70, 50, window=label1)\n",
    "\n",
    "figure1 = plt.Figure(figsize=(5,4), dpi=100)\n",
    "ax1 = figure1.add_subplot(111)\n",
    "ax1.scatter(df['x'], df['y'], c= kmeans.labels_.astype(float), s=50, alpha=0.5)\n",
    "ax1.scatter(centroids[:, 0], centroids[:, 1], c='red', s=50)\n",
    "scatter1 = FigureCanvasTkAgg(figure1, root) \n",
    "scatter1.get_tk_widget().pack(side=tk.LEFT, fill=tk.BOTH)\n",
    "\n",
    "root.mainloop()"
   ]
  },
  {
   "cell_type": "markdown",
   "metadata": {},
   "source": [
    "# More Advanced Tkinter GUI\n",
    "In the final section of this tutorial, I’ll share the code to create a more advanced tkinter GUI that will allow you to:\n",
    "\n",
    "Import an Excel file with two-dimensional data-set\n",
    "Type the number of clusters needed\n",
    "Display the clusters and centroids\n",
    "Here is the full Python code:"
   ]
  },
  {
   "cell_type": "code",
   "execution_count": 13,
   "metadata": {
    "scrolled": true
   },
   "outputs": [
    {
     "name": "stderr",
     "output_type": "stream",
     "text": [
      "Exception in Tkinter callback\n",
      "Traceback (most recent call last):\n",
      "  File \"D:\\anaconda\\lib\\tkinter\\__init__.py\", line 1702, in __call__\n",
      "    return self.func(*args)\n",
      "  File \"<ipython-input-13-c5d847c3610d>\", line 29, in getExcel\n",
      "    read_file = pd.read_excel (import_file_path)\n",
      "  File \"D:\\anaconda\\lib\\site-packages\\pandas\\util\\_decorators.py\", line 178, in wrapper\n",
      "  File \"D:\\anaconda\\lib\\site-packages\\pandas\\util\\_decorators.py\", line 178, in wrapper\n",
      "  File \"D:\\anaconda\\lib\\site-packages\\pandas\\io\\excel.py\", line 307, in read_excel\n",
      "  File \"D:\\anaconda\\lib\\site-packages\\pandas\\io\\excel.py\", line 394, in __init__\n",
      "  File \"D:\\anaconda\\lib\\site-packages\\xlrd\\__init__.py\", line 162, in open_workbook\n",
      "    ragged_rows=ragged_rows,\n",
      "  File \"D:\\anaconda\\lib\\site-packages\\xlrd\\book.py\", line 91, in open_workbook_xls\n",
      "    biff_version = bk.getbof(XL_WORKBOOK_GLOBALS)\n",
      "  File \"D:\\anaconda\\lib\\site-packages\\xlrd\\book.py\", line 1271, in getbof\n",
      "    bof_error('Expected BOF record; found %r' % self.mem[savpos:savpos+8])\n",
      "  File \"D:\\anaconda\\lib\\site-packages\\xlrd\\book.py\", line 1265, in bof_error\n",
      "    raise XLRDError('Unsupported format, or corrupt file: ' + msg)\n",
      "xlrd.biffh.XLRDError: Unsupported format, or corrupt file: Expected BOF record; found b'x,y\\r\\n128'\n",
      "Exception in Tkinter callback\n",
      "Traceback (most recent call last):\n",
      "  File \"D:\\anaconda\\lib\\tkinter\\__init__.py\", line 1702, in __call__\n",
      "    return self.func(*args)\n",
      "  File \"<ipython-input-13-c5d847c3610d>\", line 40, in getKMeans\n",
      "    kmeans = KMeans(n_clusters=numberOfClusters).fit(df)\n",
      "  File \"D:\\anaconda\\lib\\site-packages\\sklearn\\cluster\\k_means_.py\", line 887, in fit\n",
      "  File \"D:\\anaconda\\lib\\site-packages\\sklearn\\cluster\\k_means_.py\", line 858, in _check_fit_data\n",
      "  File \"D:\\anaconda\\lib\\site-packages\\sklearn\\utils\\validation.py\", line 453, in check_array\n",
      "  File \"D:\\anaconda\\lib\\site-packages\\sklearn\\utils\\validation.py\", line 44, in _assert_all_finite\n",
      "ValueError: Input contains NaN, infinity or a value too large for dtype('float64').\n",
      "Exception in Tkinter callback\n",
      "Traceback (most recent call last):\n",
      "  File \"D:\\anaconda\\lib\\tkinter\\__init__.py\", line 1702, in __call__\n",
      "    return self.func(*args)\n",
      "  File \"<ipython-input-13-c5d847c3610d>\", line 29, in getExcel\n",
      "    read_file = pd.read_excel (import_file_path)\n",
      "  File \"D:\\anaconda\\lib\\site-packages\\pandas\\util\\_decorators.py\", line 178, in wrapper\n",
      "  File \"D:\\anaconda\\lib\\site-packages\\pandas\\util\\_decorators.py\", line 178, in wrapper\n",
      "  File \"D:\\anaconda\\lib\\site-packages\\pandas\\io\\excel.py\", line 307, in read_excel\n",
      "  File \"D:\\anaconda\\lib\\site-packages\\pandas\\io\\excel.py\", line 394, in __init__\n",
      "  File \"D:\\anaconda\\lib\\site-packages\\xlrd\\__init__.py\", line 162, in open_workbook\n",
      "    ragged_rows=ragged_rows,\n",
      "  File \"D:\\anaconda\\lib\\site-packages\\xlrd\\book.py\", line 91, in open_workbook_xls\n",
      "    biff_version = bk.getbof(XL_WORKBOOK_GLOBALS)\n",
      "  File \"D:\\anaconda\\lib\\site-packages\\xlrd\\book.py\", line 1271, in getbof\n",
      "    bof_error('Expected BOF record; found %r' % self.mem[savpos:savpos+8])\n",
      "  File \"D:\\anaconda\\lib\\site-packages\\xlrd\\book.py\", line 1265, in bof_error\n",
      "    raise XLRDError('Unsupported format, or corrupt file: ' + msg)\n",
      "xlrd.biffh.XLRDError: Unsupported format, or corrupt file: Expected BOF record; found b'Id,MSSub'\n",
      "Exception in Tkinter callback\n",
      "Traceback (most recent call last):\n",
      "  File \"D:\\anaconda\\lib\\tkinter\\__init__.py\", line 1702, in __call__\n",
      "    return self.func(*args)\n",
      "  File \"<ipython-input-13-c5d847c3610d>\", line 40, in getKMeans\n",
      "    kmeans = KMeans(n_clusters=numberOfClusters).fit(df)\n",
      "  File \"D:\\anaconda\\lib\\site-packages\\sklearn\\cluster\\k_means_.py\", line 887, in fit\n",
      "  File \"D:\\anaconda\\lib\\site-packages\\sklearn\\cluster\\k_means_.py\", line 858, in _check_fit_data\n",
      "  File \"D:\\anaconda\\lib\\site-packages\\sklearn\\utils\\validation.py\", line 453, in check_array\n",
      "  File \"D:\\anaconda\\lib\\site-packages\\sklearn\\utils\\validation.py\", line 44, in _assert_all_finite\n",
      "ValueError: Input contains NaN, infinity or a value too large for dtype('float64').\n",
      "Exception in Tkinter callback\n",
      "Traceback (most recent call last):\n",
      "  File \"D:\\anaconda\\lib\\tkinter\\__init__.py\", line 1702, in __call__\n",
      "    return self.func(*args)\n",
      "  File \"<ipython-input-13-c5d847c3610d>\", line 40, in getKMeans\n",
      "    kmeans = KMeans(n_clusters=numberOfClusters).fit(df)\n",
      "  File \"D:\\anaconda\\lib\\site-packages\\sklearn\\cluster\\k_means_.py\", line 887, in fit\n",
      "  File \"D:\\anaconda\\lib\\site-packages\\sklearn\\cluster\\k_means_.py\", line 858, in _check_fit_data\n",
      "  File \"D:\\anaconda\\lib\\site-packages\\sklearn\\utils\\validation.py\", line 453, in check_array\n",
      "  File \"D:\\anaconda\\lib\\site-packages\\sklearn\\utils\\validation.py\", line 44, in _assert_all_finite\n",
      "ValueError: Input contains NaN, infinity or a value too large for dtype('float64').\n"
     ]
    }
   ],
   "source": [
    "import tkinter as tk\n",
    "from tkinter import filedialog\n",
    "import pandas as pd\n",
    "from pandas import DataFrame\n",
    "import matplotlib.pyplot as plt\n",
    "from sklearn.cluster import KMeans\n",
    "from matplotlib.backends.backend_tkagg import FigureCanvasTkAgg\n",
    "\n",
    "root= tk.Tk()\n",
    "\n",
    "canvas1 = tk.Canvas(root, width = 400, height = 300,  relief = 'raised')\n",
    "canvas1.pack()\n",
    "\n",
    "label1 = tk.Label(root, text='k-Means Clustering')\n",
    "label1.config(font=('helvetica', 14))\n",
    "canvas1.create_window(200, 25, window=label1)\n",
    "\n",
    "label2 = tk.Label(root, text='Type Number of Clusters:')\n",
    "label2.config(font=('helvetica', 8))\n",
    "canvas1.create_window(200, 120, window=label2)\n",
    "\n",
    "entry1 = tk.Entry (root) \n",
    "canvas1.create_window(200, 140, window=entry1)\n",
    "\n",
    "def getExcel ():\n",
    "    \n",
    "    global df\n",
    "    import_file_path = filedialog.askopenfilename()\n",
    "    read_file = pd.read_excel (import_file_path)\n",
    "    df = DataFrame(read_file,columns=['x','y'])  \n",
    "    \n",
    "browseButtonExcel = tk.Button(text=\" Import Excel File \", command=getExcel, bg='green', fg='white', font=('helvetica', 10, 'bold'))\n",
    "canvas1.create_window(200, 70, window=browseButtonExcel)\n",
    "\n",
    "def getKMeans ():\n",
    "    global df\n",
    "    global numberOfClusters\n",
    "    numberOfClusters = int(entry1.get())\n",
    "    \n",
    "    kmeans = KMeans(n_clusters=numberOfClusters).fit(df)\n",
    "    centroids = kmeans.cluster_centers_\n",
    "    \n",
    "    label3 = tk.Label(root, text= centroids)\n",
    "    canvas1.create_window(200, 250, window=label3)\n",
    "    \n",
    "    figure1 = plt.Figure(figsize=(4,3), dpi=100)\n",
    "    ax1 = figure1.add_subplot(111)\n",
    "    ax1.scatter(df['x'], df['y'], c= kmeans.labels_.astype(float), s=50, alpha=0.5)\n",
    "    ax1.scatter(centroids[:, 0], centroids[:, 1], c='red', s=50)\n",
    "    scatter1 = FigureCanvasTkAgg(figure1, root) \n",
    "    scatter1.get_tk_widget().pack(side=tk.RIGHT, fill=tk.BOTH)\n",
    "    \n",
    "processButton = tk.Button(text=' Process k-Means ', command=getKMeans, bg='brown', fg='white', font=('helvetica', 10, 'bold'))\n",
    "canvas1.create_window(200, 170, window=processButton)\n",
    "\n",
    "root.mainloop()"
   ]
  },
  {
   "cell_type": "markdown",
   "metadata": {},
   "source": [
    "Before you run the above code, you’ll need to store your two-dimensional data-set in an Excel file. For example, I stored the date-set that we saw at the beginning of this post in an Excel file:"
   ]
  },
  {
   "cell_type": "code",
   "execution_count": null,
   "metadata": {},
   "outputs": [],
   "source": []
  }
 ],
 "metadata": {
  "kernelspec": {
   "display_name": "Python 3",
   "language": "python",
   "name": "python3"
  },
  "language_info": {
   "codemirror_mode": {
    "name": "ipython",
    "version": 3
   },
   "file_extension": ".py",
   "mimetype": "text/x-python",
   "name": "python",
   "nbconvert_exporter": "python",
   "pygments_lexer": "ipython3",
   "version": "3.7.0"
  }
 },
 "nbformat": 4,
 "nbformat_minor": 2
}
